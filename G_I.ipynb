{
 "cells": [
  {
   "cell_type": "code",
   "execution_count": 1,
   "metadata": {},
   "outputs": [],
   "source": [
    "import pandas as pd \n",
    "import numpy as np"
   ]
  },
  {
   "cell_type": "code",
   "execution_count": 2,
   "metadata": {},
   "outputs": [],
   "source": [
    "data = pd.read_csv(\"output-onlinetools [MConverter.eu].csv\")"
   ]
  },
  {
   "cell_type": "code",
   "execution_count": 3,
   "metadata": {},
   "outputs": [
    {
     "data": {
      "text/html": [
       "<div>\n",
       "<style scoped>\n",
       "    .dataframe tbody tr th:only-of-type {\n",
       "        vertical-align: middle;\n",
       "    }\n",
       "\n",
       "    .dataframe tbody tr th {\n",
       "        vertical-align: top;\n",
       "    }\n",
       "\n",
       "    .dataframe thead th {\n",
       "        text-align: right;\n",
       "    }\n",
       "</style>\n",
       "<table border=\"1\" class=\"dataframe\">\n",
       "  <thead>\n",
       "    <tr style=\"text-align: right;\">\n",
       "      <th></th>\n",
       "      <th>Sn.</th>\n",
       "      <th>Application no</th>\n",
       "      <th>Product</th>\n",
       "      <th>Goods</th>\n",
       "      <th>State</th>\n",
       "    </tr>\n",
       "  </thead>\n",
       "  <tbody>\n",
       "    <tr>\n",
       "      <th>0</th>\n",
       "      <td>1</td>\n",
       "      <td>1.0</td>\n",
       "      <td>Darjeeling Tea (word &amp; logo)</td>\n",
       "      <td>Agricultural</td>\n",
       "      <td>West Bengal</td>\n",
       "    </tr>\n",
       "    <tr>\n",
       "      <th>1</th>\n",
       "      <td>2</td>\n",
       "      <td>3.0</td>\n",
       "      <td>Aranmula Kannadi</td>\n",
       "      <td>Handicraft</td>\n",
       "      <td>Kerala</td>\n",
       "    </tr>\n",
       "    <tr>\n",
       "      <th>2</th>\n",
       "      <td>3</td>\n",
       "      <td>67.0</td>\n",
       "      <td>Molela Clay Work</td>\n",
       "      <td>Handicraft</td>\n",
       "      <td>Rajasthan</td>\n",
       "    </tr>\n",
       "    <tr>\n",
       "      <th>3</th>\n",
       "      <td>4</td>\n",
       "      <td>68.0</td>\n",
       "      <td>Kathputlis of Rajasthan</td>\n",
       "      <td>Handicraft</td>\n",
       "      <td>Rajasthan</td>\n",
       "    </tr>\n",
       "    <tr>\n",
       "      <th>4</th>\n",
       "      <td>5</td>\n",
       "      <td>97.0</td>\n",
       "      <td>Leather Toys of Indore</td>\n",
       "      <td>Handicraft</td>\n",
       "      <td>Madhya Pradesh</td>\n",
       "    </tr>\n",
       "  </tbody>\n",
       "</table>\n",
       "</div>"
      ],
      "text/plain": [
       "   Sn.  Application no                        Product          Goods  \\\n",
       "0    1             1.0  Darjeeling Tea (word & logo)   Agricultural    \n",
       "1    2             3.0              Aranmula Kannadi     Handicraft    \n",
       "2    3            67.0              Molela Clay Work     Handicraft    \n",
       "3    4            68.0       Kathputlis of Rajasthan     Handicraft    \n",
       "4    5            97.0        Leather Toys of Indore     Handicraft    \n",
       "\n",
       "             State  \n",
       "0     West Bengal   \n",
       "1          Kerala   \n",
       "2       Rajasthan   \n",
       "3       Rajasthan   \n",
       "4  Madhya Pradesh   "
      ]
     },
     "execution_count": 3,
     "metadata": {},
     "output_type": "execute_result"
    }
   ],
   "source": [
    "data.head()"
   ]
  },
  {
   "cell_type": "code",
   "execution_count": 4,
   "metadata": {},
   "outputs": [
    {
     "data": {
      "text/plain": [
       "(211, 5)"
      ]
     },
     "execution_count": 4,
     "metadata": {},
     "output_type": "execute_result"
    }
   ],
   "source": [
    "data.shape"
   ]
  },
  {
   "cell_type": "code",
   "execution_count": 5,
   "metadata": {},
   "outputs": [],
   "source": [
    "data = data.drop(columns=['Sn.'])"
   ]
  },
  {
   "cell_type": "code",
   "execution_count": 6,
   "metadata": {},
   "outputs": [
    {
     "data": {
      "text/html": [
       "<div>\n",
       "<style scoped>\n",
       "    .dataframe tbody tr th:only-of-type {\n",
       "        vertical-align: middle;\n",
       "    }\n",
       "\n",
       "    .dataframe tbody tr th {\n",
       "        vertical-align: top;\n",
       "    }\n",
       "\n",
       "    .dataframe thead th {\n",
       "        text-align: right;\n",
       "    }\n",
       "</style>\n",
       "<table border=\"1\" class=\"dataframe\">\n",
       "  <thead>\n",
       "    <tr style=\"text-align: right;\">\n",
       "      <th></th>\n",
       "      <th>Application no</th>\n",
       "      <th>Product</th>\n",
       "      <th>Goods</th>\n",
       "      <th>State</th>\n",
       "    </tr>\n",
       "  </thead>\n",
       "  <tbody>\n",
       "    <tr>\n",
       "      <th>0</th>\n",
       "      <td>1.0</td>\n",
       "      <td>Darjeeling Tea (word &amp; logo)</td>\n",
       "      <td>Agricultural</td>\n",
       "      <td>West Bengal</td>\n",
       "    </tr>\n",
       "    <tr>\n",
       "      <th>1</th>\n",
       "      <td>3.0</td>\n",
       "      <td>Aranmula Kannadi</td>\n",
       "      <td>Handicraft</td>\n",
       "      <td>Kerala</td>\n",
       "    </tr>\n",
       "    <tr>\n",
       "      <th>2</th>\n",
       "      <td>67.0</td>\n",
       "      <td>Molela Clay Work</td>\n",
       "      <td>Handicraft</td>\n",
       "      <td>Rajasthan</td>\n",
       "    </tr>\n",
       "    <tr>\n",
       "      <th>3</th>\n",
       "      <td>68.0</td>\n",
       "      <td>Kathputlis of Rajasthan</td>\n",
       "      <td>Handicraft</td>\n",
       "      <td>Rajasthan</td>\n",
       "    </tr>\n",
       "    <tr>\n",
       "      <th>4</th>\n",
       "      <td>97.0</td>\n",
       "      <td>Leather Toys of Indore</td>\n",
       "      <td>Handicraft</td>\n",
       "      <td>Madhya Pradesh</td>\n",
       "    </tr>\n",
       "  </tbody>\n",
       "</table>\n",
       "</div>"
      ],
      "text/plain": [
       "   Application no                        Product          Goods  \\\n",
       "0             1.0  Darjeeling Tea (word & logo)   Agricultural    \n",
       "1             3.0              Aranmula Kannadi     Handicraft    \n",
       "2            67.0              Molela Clay Work     Handicraft    \n",
       "3            68.0       Kathputlis of Rajasthan     Handicraft    \n",
       "4            97.0        Leather Toys of Indore     Handicraft    \n",
       "\n",
       "             State  \n",
       "0     West Bengal   \n",
       "1          Kerala   \n",
       "2       Rajasthan   \n",
       "3       Rajasthan   \n",
       "4  Madhya Pradesh   "
      ]
     },
     "execution_count": 6,
     "metadata": {},
     "output_type": "execute_result"
    }
   ],
   "source": [
    "data.head()"
   ]
  },
  {
   "cell_type": "code",
   "execution_count": 7,
   "metadata": {},
   "outputs": [
    {
     "data": {
      "text/plain": [
       "Application no    50\n",
       "Product           32\n",
       "Goods             54\n",
       "State             55\n",
       "dtype: int64"
      ]
     },
     "execution_count": 7,
     "metadata": {},
     "output_type": "execute_result"
    }
   ],
   "source": [
    "data.isnull().sum()"
   ]
  },
  {
   "cell_type": "code",
   "execution_count": 8,
   "metadata": {},
   "outputs": [],
   "source": [
    "data.dropna(inplace=True)"
   ]
  },
  {
   "cell_type": "code",
   "execution_count": 9,
   "metadata": {},
   "outputs": [
    {
     "data": {
      "text/plain": [
       "(130, 4)"
      ]
     },
     "execution_count": 9,
     "metadata": {},
     "output_type": "execute_result"
    }
   ],
   "source": [
    "data.shape"
   ]
  },
  {
   "cell_type": "code",
   "execution_count": 10,
   "metadata": {},
   "outputs": [
    {
     "data": {
      "text/html": [
       "<div>\n",
       "<style scoped>\n",
       "    .dataframe tbody tr th:only-of-type {\n",
       "        vertical-align: middle;\n",
       "    }\n",
       "\n",
       "    .dataframe tbody tr th {\n",
       "        vertical-align: top;\n",
       "    }\n",
       "\n",
       "    .dataframe thead th {\n",
       "        text-align: right;\n",
       "    }\n",
       "</style>\n",
       "<table border=\"1\" class=\"dataframe\">\n",
       "  <thead>\n",
       "    <tr style=\"text-align: right;\">\n",
       "      <th></th>\n",
       "      <th>Application no</th>\n",
       "      <th>Product</th>\n",
       "      <th>Goods</th>\n",
       "      <th>State</th>\n",
       "    </tr>\n",
       "  </thead>\n",
       "  <tbody>\n",
       "    <tr>\n",
       "      <th>0</th>\n",
       "      <td>1.0</td>\n",
       "      <td>Darjeeling Tea (word &amp; logo)</td>\n",
       "      <td>Agricultural</td>\n",
       "      <td>West Bengal</td>\n",
       "    </tr>\n",
       "    <tr>\n",
       "      <th>1</th>\n",
       "      <td>3.0</td>\n",
       "      <td>Aranmula Kannadi</td>\n",
       "      <td>Handicraft</td>\n",
       "      <td>Kerala</td>\n",
       "    </tr>\n",
       "    <tr>\n",
       "      <th>2</th>\n",
       "      <td>67.0</td>\n",
       "      <td>Molela Clay Work</td>\n",
       "      <td>Handicraft</td>\n",
       "      <td>Rajasthan</td>\n",
       "    </tr>\n",
       "    <tr>\n",
       "      <th>3</th>\n",
       "      <td>68.0</td>\n",
       "      <td>Kathputlis of Rajasthan</td>\n",
       "      <td>Handicraft</td>\n",
       "      <td>Rajasthan</td>\n",
       "    </tr>\n",
       "    <tr>\n",
       "      <th>4</th>\n",
       "      <td>97.0</td>\n",
       "      <td>Leather Toys of Indore</td>\n",
       "      <td>Handicraft</td>\n",
       "      <td>Madhya Pradesh</td>\n",
       "    </tr>\n",
       "  </tbody>\n",
       "</table>\n",
       "</div>"
      ],
      "text/plain": [
       "   Application no                        Product          Goods  \\\n",
       "0             1.0  Darjeeling Tea (word & logo)   Agricultural    \n",
       "1             3.0              Aranmula Kannadi     Handicraft    \n",
       "2            67.0              Molela Clay Work     Handicraft    \n",
       "3            68.0       Kathputlis of Rajasthan     Handicraft    \n",
       "4            97.0        Leather Toys of Indore     Handicraft    \n",
       "\n",
       "             State  \n",
       "0     West Bengal   \n",
       "1          Kerala   \n",
       "2       Rajasthan   \n",
       "3       Rajasthan   \n",
       "4  Madhya Pradesh   "
      ]
     },
     "execution_count": 10,
     "metadata": {},
     "output_type": "execute_result"
    }
   ],
   "source": [
    "data.head()"
   ]
  },
  {
   "cell_type": "code",
   "execution_count": 11,
   "metadata": {},
   "outputs": [],
   "source": [
    "data['tags'] = data['Product']+data['Goods']"
   ]
  },
  {
   "cell_type": "code",
   "execution_count": 12,
   "metadata": {},
   "outputs": [
    {
     "data": {
      "text/html": [
       "<div>\n",
       "<style scoped>\n",
       "    .dataframe tbody tr th:only-of-type {\n",
       "        vertical-align: middle;\n",
       "    }\n",
       "\n",
       "    .dataframe tbody tr th {\n",
       "        vertical-align: top;\n",
       "    }\n",
       "\n",
       "    .dataframe thead th {\n",
       "        text-align: right;\n",
       "    }\n",
       "</style>\n",
       "<table border=\"1\" class=\"dataframe\">\n",
       "  <thead>\n",
       "    <tr style=\"text-align: right;\">\n",
       "      <th></th>\n",
       "      <th>Application no</th>\n",
       "      <th>Product</th>\n",
       "      <th>Goods</th>\n",
       "      <th>State</th>\n",
       "      <th>tags</th>\n",
       "    </tr>\n",
       "  </thead>\n",
       "  <tbody>\n",
       "    <tr>\n",
       "      <th>0</th>\n",
       "      <td>1.0</td>\n",
       "      <td>Darjeeling Tea (word &amp; logo)</td>\n",
       "      <td>Agricultural</td>\n",
       "      <td>West Bengal</td>\n",
       "      <td>Darjeeling Tea (word &amp; logo) Agricultural</td>\n",
       "    </tr>\n",
       "    <tr>\n",
       "      <th>1</th>\n",
       "      <td>3.0</td>\n",
       "      <td>Aranmula Kannadi</td>\n",
       "      <td>Handicraft</td>\n",
       "      <td>Kerala</td>\n",
       "      <td>Aranmula Kannadi Handicraft</td>\n",
       "    </tr>\n",
       "    <tr>\n",
       "      <th>2</th>\n",
       "      <td>67.0</td>\n",
       "      <td>Molela Clay Work</td>\n",
       "      <td>Handicraft</td>\n",
       "      <td>Rajasthan</td>\n",
       "      <td>Molela Clay Work Handicraft</td>\n",
       "    </tr>\n",
       "    <tr>\n",
       "      <th>3</th>\n",
       "      <td>68.0</td>\n",
       "      <td>Kathputlis of Rajasthan</td>\n",
       "      <td>Handicraft</td>\n",
       "      <td>Rajasthan</td>\n",
       "      <td>Kathputlis of Rajasthan Handicraft</td>\n",
       "    </tr>\n",
       "    <tr>\n",
       "      <th>4</th>\n",
       "      <td>97.0</td>\n",
       "      <td>Leather Toys of Indore</td>\n",
       "      <td>Handicraft</td>\n",
       "      <td>Madhya Pradesh</td>\n",
       "      <td>Leather Toys of Indore Handicraft</td>\n",
       "    </tr>\n",
       "  </tbody>\n",
       "</table>\n",
       "</div>"
      ],
      "text/plain": [
       "   Application no                        Product          Goods  \\\n",
       "0             1.0  Darjeeling Tea (word & logo)   Agricultural    \n",
       "1             3.0              Aranmula Kannadi     Handicraft    \n",
       "2            67.0              Molela Clay Work     Handicraft    \n",
       "3            68.0       Kathputlis of Rajasthan     Handicraft    \n",
       "4            97.0        Leather Toys of Indore     Handicraft    \n",
       "\n",
       "             State                                        tags  \n",
       "0     West Bengal   Darjeeling Tea (word & logo) Agricultural   \n",
       "1          Kerala                 Aranmula Kannadi Handicraft   \n",
       "2       Rajasthan                 Molela Clay Work Handicraft   \n",
       "3       Rajasthan          Kathputlis of Rajasthan Handicraft   \n",
       "4  Madhya Pradesh           Leather Toys of Indore Handicraft   "
      ]
     },
     "execution_count": 12,
     "metadata": {},
     "output_type": "execute_result"
    }
   ],
   "source": [
    "data.head()"
   ]
  },
  {
   "cell_type": "code",
   "execution_count": 13,
   "metadata": {},
   "outputs": [
    {
     "data": {
      "text/plain": [
       "'Darjeeling Tea (word & logo) Agricultural '"
      ]
     },
     "execution_count": 13,
     "metadata": {},
     "output_type": "execute_result"
    }
   ],
   "source": [
    "data['tags'][0]"
   ]
  },
  {
   "cell_type": "code",
   "execution_count": 14,
   "metadata": {},
   "outputs": [],
   "source": [
    "data['tags'] = data['tags'].apply(lambda x:\"\".join(x))"
   ]
  },
  {
   "cell_type": "code",
   "execution_count": 15,
   "metadata": {},
   "outputs": [
    {
     "data": {
      "text/plain": [
       "0    Darjeeling Tea (word & logo) Agricultural \n",
       "Name: tags, dtype: object"
      ]
     },
     "execution_count": 15,
     "metadata": {},
     "output_type": "execute_result"
    }
   ],
   "source": [
    "data['tags'].head(1)"
   ]
  },
  {
   "cell_type": "code",
   "execution_count": 16,
   "metadata": {},
   "outputs": [],
   "source": [
    "import nltk"
   ]
  },
  {
   "cell_type": "code",
   "execution_count": 17,
   "metadata": {},
   "outputs": [],
   "source": [
    "from nltk.stem.porter import PorterStemmer"
   ]
  },
  {
   "cell_type": "code",
   "execution_count": 18,
   "metadata": {},
   "outputs": [],
   "source": [
    "ps = PorterStemmer()"
   ]
  },
  {
   "cell_type": "code",
   "execution_count": 19,
   "metadata": {},
   "outputs": [],
   "source": [
    "def stem(text):\n",
    "    y = []\n",
    "    for i in text.split():\n",
    "        y.append(ps.stem(i))\n",
    "    return \" \".join(y)"
   ]
  },
  {
   "cell_type": "code",
   "execution_count": 20,
   "metadata": {},
   "outputs": [],
   "source": [
    "data['tags'] = data['tags'].apply(lambda x:x.lower())\n",
    "data['State'] = data['State'].apply(lambda x:x.lower())"
   ]
  },
  {
   "cell_type": "code",
   "execution_count": 21,
   "metadata": {},
   "outputs": [
    {
     "data": {
      "text/html": [
       "<div>\n",
       "<style scoped>\n",
       "    .dataframe tbody tr th:only-of-type {\n",
       "        vertical-align: middle;\n",
       "    }\n",
       "\n",
       "    .dataframe tbody tr th {\n",
       "        vertical-align: top;\n",
       "    }\n",
       "\n",
       "    .dataframe thead th {\n",
       "        text-align: right;\n",
       "    }\n",
       "</style>\n",
       "<table border=\"1\" class=\"dataframe\">\n",
       "  <thead>\n",
       "    <tr style=\"text-align: right;\">\n",
       "      <th></th>\n",
       "      <th>Application no</th>\n",
       "      <th>Product</th>\n",
       "      <th>Goods</th>\n",
       "      <th>State</th>\n",
       "      <th>tags</th>\n",
       "    </tr>\n",
       "  </thead>\n",
       "  <tbody>\n",
       "    <tr>\n",
       "      <th>0</th>\n",
       "      <td>1.0</td>\n",
       "      <td>Darjeeling Tea (word &amp; logo)</td>\n",
       "      <td>Agricultural</td>\n",
       "      <td>west bengal</td>\n",
       "      <td>darjeeling tea (word &amp; logo) agricultural</td>\n",
       "    </tr>\n",
       "  </tbody>\n",
       "</table>\n",
       "</div>"
      ],
      "text/plain": [
       "   Application no                        Product          Goods         State  \\\n",
       "0             1.0  Darjeeling Tea (word & logo)   Agricultural   west bengal    \n",
       "\n",
       "                                         tags  \n",
       "0  darjeeling tea (word & logo) agricultural   "
      ]
     },
     "execution_count": 21,
     "metadata": {},
     "output_type": "execute_result"
    }
   ],
   "source": [
    "data.head(1)"
   ]
  },
  {
   "cell_type": "code",
   "execution_count": 22,
   "metadata": {},
   "outputs": [],
   "source": [
    "from sklearn.feature_extraction.text import CountVectorizer\n",
    "cv = CountVectorizer(max_features=5000,stop_words='english')"
   ]
  },
  {
   "cell_type": "code",
   "execution_count": 23,
   "metadata": {},
   "outputs": [],
   "source": [
    "vector = cv.fit_transform(data['tags']).toarray()"
   ]
  },
  {
   "cell_type": "code",
   "execution_count": 24,
   "metadata": {},
   "outputs": [
    {
     "data": {
      "text/plain": [
       "array([[0, 0, 1, ..., 1, 0, 0],\n",
       "       [0, 0, 0, ..., 0, 0, 0],\n",
       "       [0, 0, 0, ..., 0, 1, 0],\n",
       "       ...,\n",
       "       [0, 0, 0, ..., 0, 0, 0],\n",
       "       [0, 0, 1, ..., 0, 0, 0],\n",
       "       [0, 0, 0, ..., 0, 0, 0]], dtype=int64)"
      ]
     },
     "execution_count": 24,
     "metadata": {},
     "output_type": "execute_result"
    }
   ],
   "source": [
    "vector"
   ]
  },
  {
   "cell_type": "code",
   "execution_count": 25,
   "metadata": {},
   "outputs": [],
   "source": [
    "data['tags'] = data['tags'].apply(stem)"
   ]
  },
  {
   "cell_type": "code",
   "execution_count": 26,
   "metadata": {},
   "outputs": [
    {
     "data": {
      "text/plain": [
       "'darjeel tea (word & logo) agricultur'"
      ]
     },
     "execution_count": 26,
     "metadata": {},
     "output_type": "execute_result"
    }
   ],
   "source": [
    "data['tags'][0]"
   ]
  },
  {
   "cell_type": "code",
   "execution_count": 27,
   "metadata": {},
   "outputs": [],
   "source": [
    "from sklearn.metrics.pairwise import cosine_similarity"
   ]
  },
  {
   "cell_type": "code",
   "execution_count": 28,
   "metadata": {},
   "outputs": [],
   "source": [
    "similarity = cosine_similarity(vector)"
   ]
  },
  {
   "cell_type": "code",
   "execution_count": 29,
   "metadata": {},
   "outputs": [],
   "source": [
    "def recommend(product_name, data, similarity):\n",
    "        product_index = data[data['Product'] == product_name].index[0]\n",
    "        distances = similarity[product_index]\n",
    "        product_list = sorted(list(enumerate(distances)), reverse=True, key=lambda x: x[1])[1:6]\n",
    "        print(\"Recommended products:\")\n",
    "        for i in product_list:\n",
    "            print(\"THE PRODUCTS:-\",data.iloc[i[0]]['Product'])\n",
    "            print(\"STATE:-\",data.iloc[i[0]]['State'])\n",
    "\n"
   ]
  },
  {
   "cell_type": "code",
   "execution_count": 30,
   "metadata": {},
   "outputs": [],
   "source": [
    "example_product = data['Product'].iloc[0] "
   ]
  },
  {
   "cell_type": "code",
   "execution_count": 31,
   "metadata": {},
   "outputs": [
    {
     "name": "stdout",
     "output_type": "stream",
     "text": [
      "Recommended products:\n",
      "THE PRODUCTS:- Kangra Tea \n",
      "STATE:- himachal pradesh \n",
      "THE PRODUCTS:- Pokkali Rice \n",
      "STATE:- kerala \n",
      "THE PRODUCTS:- Naga Mircha \n",
      "STATE:- nagaland \n",
      "THE PRODUCTS:- Nilgiri (Orthodox) \n",
      "STATE:- tamil nadu \n",
      "THE PRODUCTS:- Assam (Orthodox) \n",
      "STATE:- assam \n"
     ]
    }
   ],
   "source": [
    "recommend(example_product,data,similarity)"
   ]
  },
  {
   "cell_type": "code",
   "execution_count": 32,
   "metadata": {},
   "outputs": [],
   "source": [
    "def recommend2(State_name,data,similarity):\n",
    "    State_index = data[data['State']==State_name].index[0]\n",
    "    distances = similarity[State_index]\n",
    "    State_list = sorted(list(enumerate(distances)), reverse=True, key=lambda x: x[1])[1:6]\n",
    "    print('RECOMMENDED STATE')\n",
    "    for i in State_list:\n",
    "        print(\"THE PRODUCTS:-\",data.iloc[i[0]]['Product'])\n",
    "        print(\"THE STATE:-\",data.iloc[i[0]]['State'])"
   ]
  },
  {
   "cell_type": "code",
   "execution_count": 33,
   "metadata": {},
   "outputs": [
    {
     "name": "stdout",
     "output_type": "stream",
     "text": [
      "west bengal \n"
     ]
    }
   ],
   "source": [
    "example_state = data['State'].iloc[0]\n",
    "print(example_state)"
   ]
  },
  {
   "cell_type": "code",
   "execution_count": 34,
   "metadata": {},
   "outputs": [
    {
     "name": "stdout",
     "output_type": "stream",
     "text": [
      "RECOMMENDED STATE\n",
      "THE PRODUCTS:- Kangra Tea \n",
      "THE STATE:- himachal pradesh \n",
      "THE PRODUCTS:- Pokkali Rice \n",
      "THE STATE:- kerala \n",
      "THE PRODUCTS:- Naga Mircha \n",
      "THE STATE:- nagaland \n",
      "THE PRODUCTS:- Nilgiri (Orthodox) \n",
      "THE STATE:- tamil nadu \n",
      "THE PRODUCTS:- Assam (Orthodox) \n",
      "THE STATE:- assam \n"
     ]
    }
   ],
   "source": [
    "recommend2(example_state,data,similarity)"
   ]
  },
  {
   "cell_type": "code",
   "execution_count": 35,
   "metadata": {},
   "outputs": [],
   "source": [
    "def recommend3(State):\n",
    "      state_data = data[data['State'] == State]\n",
    "      print(\"THE PRODUCTS:\")\n",
    "      for product in state_data['Product'].head(5):\n",
    "            print(product)\n",
    "      print(\"THE GOODS:\")\n",
    "      for Goods in state_data['Goods'].head(5):\n",
    "            print(Goods)"
   ]
  },
  {
   "cell_type": "code",
   "execution_count": 36,
   "metadata": {},
   "outputs": [],
   "source": [
    "example_state2 = data['State'].iloc[23]"
   ]
  },
  {
   "cell_type": "code",
   "execution_count": 37,
   "metadata": {},
   "outputs": [
    {
     "name": "stdout",
     "output_type": "stream",
     "text": [
      "THE PRODUCTS:\n",
      "Kani Shawl \n",
      "Kashmir Pashmina \n",
      "Kashmir Sozani Craft \n",
      "THE GOODS:\n",
      "Handicraft \n",
      "Handicraft \n",
      "Handicraft \n"
     ]
    }
   ],
   "source": [
    "recommend3(example_state2)"
   ]
  },
  {
   "cell_type": "code",
   "execution_count": 38,
   "metadata": {},
   "outputs": [],
   "source": [
    "unique_states = data['State'].dropna().str.strip().unique()\n"
   ]
  },
  {
   "cell_type": "code",
   "execution_count": 39,
   "metadata": {},
   "outputs": [],
   "source": [
    "unique_states_series = pd.Series(unique_states)"
   ]
  },
  {
   "cell_type": "code",
   "execution_count": 40,
   "metadata": {},
   "outputs": [
    {
     "name": "stdout",
     "output_type": "stream",
     "text": [
      "0                  west bengal\n",
      "1                       kerala\n",
      "2                    rajasthan\n",
      "3               madhya pradesh\n",
      "4                      gujarat\n",
      "5                   tamil nadu\n",
      "6              jammu & kashmir\n",
      "7             himachal pradesh\n",
      "8                    karnataka\n",
      "9                       odisha\n",
      "10                 maharashtra\n",
      "11                   telangana\n",
      "12                    nagaland\n",
      "13                       assam\n",
      "14               uttar pradesh\n",
      "15                         goa\n",
      "16              andhra pradesh\n",
      "17                        peru\n",
      "18                      france\n",
      "19    united states of america\n",
      "20              united kingdom\n",
      "21                       italy\n",
      "22                       bihar\n",
      "23                       india\n",
      "24                 chattisgarh\n",
      "dtype: object\n"
     ]
    }
   ],
   "source": [
    "print(unique_states_series)"
   ]
  },
  {
   "cell_type": "code",
   "execution_count": 41,
   "metadata": {},
   "outputs": [
    {
     "name": "stdout",
     "output_type": "stream",
     "text": [
      "odisha\n"
     ]
    }
   ],
   "source": [
    "state_to_select = input(\"Enter the name of the state you want to select: \").strip()\n",
    "print(state_to_select)"
   ]
  },
  {
   "cell_type": "code",
   "execution_count": 42,
   "metadata": {},
   "outputs": [],
   "source": [
    "def state_recommend(state_to_select):\n",
    "    columns_to_drop = ['tags','Application no'] \n",
    "    selected_state = data[data['State'].str.strip() == state_to_select]\n",
    "    selected_state = selected_state.drop(columns=columns_to_drop)\n",
    "    return selected_state"
   ]
  },
  {
   "cell_type": "code",
   "execution_count": 43,
   "metadata": {},
   "outputs": [],
   "source": [
    "data['Goods'] = data['Goods'].apply(lambda x:x.lower())"
   ]
  },
  {
   "cell_type": "code",
   "execution_count": 44,
   "metadata": {},
   "outputs": [
    {
     "data": {
      "text/html": [
       "<div>\n",
       "<style scoped>\n",
       "    .dataframe tbody tr th:only-of-type {\n",
       "        vertical-align: middle;\n",
       "    }\n",
       "\n",
       "    .dataframe tbody tr th {\n",
       "        vertical-align: top;\n",
       "    }\n",
       "\n",
       "    .dataframe thead th {\n",
       "        text-align: right;\n",
       "    }\n",
       "</style>\n",
       "<table border=\"1\" class=\"dataframe\">\n",
       "  <thead>\n",
       "    <tr style=\"text-align: right;\">\n",
       "      <th></th>\n",
       "      <th>Product</th>\n",
       "      <th>Goods</th>\n",
       "      <th>State</th>\n",
       "    </tr>\n",
       "  </thead>\n",
       "  <tbody>\n",
       "    <tr>\n",
       "      <th>19</th>\n",
       "      <td>Pipli Applique Work</td>\n",
       "      <td>handicraft</td>\n",
       "      <td>odisha</td>\n",
       "    </tr>\n",
       "    <tr>\n",
       "      <th>116</th>\n",
       "      <td>Khandua Saree and Fabrics</td>\n",
       "      <td>handicraft</td>\n",
       "      <td>odisha</td>\n",
       "    </tr>\n",
       "    <tr>\n",
       "      <th>136</th>\n",
       "      <td>Orissa Ikat</td>\n",
       "      <td>handicraft</td>\n",
       "      <td>odisha</td>\n",
       "    </tr>\n",
       "    <tr>\n",
       "      <th>156</th>\n",
       "      <td>Kotpad Handloom fabric</td>\n",
       "      <td>handicraft</td>\n",
       "      <td>odisha</td>\n",
       "    </tr>\n",
       "    <tr>\n",
       "      <th>203</th>\n",
       "      <td>Konark Stone carving</td>\n",
       "      <td>handicraft</td>\n",
       "      <td>odisha</td>\n",
       "    </tr>\n",
       "    <tr>\n",
       "      <th>204</th>\n",
       "      <td>Orissa Pattachitra</td>\n",
       "      <td>handicraft</td>\n",
       "      <td>odisha</td>\n",
       "    </tr>\n",
       "  </tbody>\n",
       "</table>\n",
       "</div>"
      ],
      "text/plain": [
       "                        Product        Goods    State\n",
       "19         Pipli Applique Work   handicraft   odisha \n",
       "116  Khandua Saree and Fabrics   handicraft   odisha \n",
       "136                Orissa Ikat   handicraft   odisha \n",
       "156     Kotpad Handloom fabric   handicraft   odisha \n",
       "203       Konark Stone carving   handicraft   odisha \n",
       "204         Orissa Pattachitra   handicraft   odisha "
      ]
     },
     "execution_count": 44,
     "metadata": {},
     "output_type": "execute_result"
    }
   ],
   "source": [
    "state_recommend(state_to_select)"
   ]
  },
  {
   "cell_type": "code",
   "execution_count": 45,
   "metadata": {},
   "outputs": [
    {
     "name": "stdout",
     "output_type": "stream",
     "text": [
      "handicraft\n"
     ]
    }
   ],
   "source": [
    "Goods_to_select = input(\"Enter your selected Goods:\").strip()\n",
    "print(Goods_to_select)"
   ]
  },
  {
   "cell_type": "code",
   "execution_count": 46,
   "metadata": {},
   "outputs": [],
   "source": [
    "\n",
    "def Goods_recommend(Goods_to_select):\n",
    "    columns_to_drop = ['tags','Application no']\n",
    "    selected_Goods = data[data['Goods'].str.strip()==Goods_to_select]\n",
    "    selected_Goods = selected_Goods.drop(columns=columns_to_drop)\n",
    "    return selected_Goods[1:7]"
   ]
  },
  {
   "cell_type": "code",
   "execution_count": 47,
   "metadata": {},
   "outputs": [
    {
     "data": {
      "text/html": [
       "<div>\n",
       "<style scoped>\n",
       "    .dataframe tbody tr th:only-of-type {\n",
       "        vertical-align: middle;\n",
       "    }\n",
       "\n",
       "    .dataframe tbody tr th {\n",
       "        vertical-align: top;\n",
       "    }\n",
       "\n",
       "    .dataframe thead th {\n",
       "        text-align: right;\n",
       "    }\n",
       "</style>\n",
       "<table border=\"1\" class=\"dataframe\">\n",
       "  <thead>\n",
       "    <tr style=\"text-align: right;\">\n",
       "      <th></th>\n",
       "      <th>Product</th>\n",
       "      <th>Goods</th>\n",
       "      <th>State</th>\n",
       "    </tr>\n",
       "  </thead>\n",
       "  <tbody>\n",
       "    <tr>\n",
       "      <th>2</th>\n",
       "      <td>Molela Clay Work</td>\n",
       "      <td>handicraft</td>\n",
       "      <td>rajasthan</td>\n",
       "    </tr>\n",
       "    <tr>\n",
       "      <th>3</th>\n",
       "      <td>Kathputlis of Rajasthan</td>\n",
       "      <td>handicraft</td>\n",
       "      <td>rajasthan</td>\n",
       "    </tr>\n",
       "    <tr>\n",
       "      <th>4</th>\n",
       "      <td>Leather Toys of Indore</td>\n",
       "      <td>handicraft</td>\n",
       "      <td>madhya pradesh</td>\n",
       "    </tr>\n",
       "    <tr>\n",
       "      <th>8</th>\n",
       "      <td>Sankheda Furniture</td>\n",
       "      <td>handicraft</td>\n",
       "      <td>gujarat</td>\n",
       "    </tr>\n",
       "    <tr>\n",
       "      <th>9</th>\n",
       "      <td>Agates of Cambay</td>\n",
       "      <td>handicraft</td>\n",
       "      <td>gujarat</td>\n",
       "    </tr>\n",
       "    <tr>\n",
       "      <th>12</th>\n",
       "      <td>Salem Fabric</td>\n",
       "      <td>handicraft</td>\n",
       "      <td>tamil nadu</td>\n",
       "    </tr>\n",
       "  </tbody>\n",
       "</table>\n",
       "</div>"
      ],
      "text/plain": [
       "                     Product        Goods            State\n",
       "2          Molela Clay Work   handicraft        rajasthan \n",
       "3   Kathputlis of Rajasthan   handicraft        rajasthan \n",
       "4    Leather Toys of Indore   handicraft   madhya pradesh \n",
       "8        Sankheda Furniture   handicraft          gujarat \n",
       "9          Agates of Cambay   handicraft          gujarat \n",
       "12             Salem Fabric   handicraft       tamil nadu "
      ]
     },
     "execution_count": 47,
     "metadata": {},
     "output_type": "execute_result"
    }
   ],
   "source": [
    "Goods_recommend(Goods_to_select)"
   ]
  },
  {
   "cell_type": "code",
   "execution_count": 48,
   "metadata": {},
   "outputs": [],
   "source": [
    "def filter(Goods_to_select,state_to_select):\n",
    "    columns_to_drop = ['tags','Application no']\n",
    "    selected_Goods2 = data[data['Goods'].str.strip()==Goods_to_select]\n",
    "    selected_Goods2 = selected_Goods2.drop(columns=columns_to_drop)\n",
    "    selected_state2 = data[data['State'].str.strip()==state_to_select]\n",
    "    selected_state2 = selected_state2.drop(columns=columns_to_drop)\n",
    "    filter = selected_state2.merge(selected_Goods2,on=['State','Goods','Product'])\n",
    "    return filter\n",
    "    "
   ]
  },
  {
   "cell_type": "code",
   "execution_count": 49,
   "metadata": {},
   "outputs": [
    {
     "data": {
      "text/html": [
       "<div>\n",
       "<style scoped>\n",
       "    .dataframe tbody tr th:only-of-type {\n",
       "        vertical-align: middle;\n",
       "    }\n",
       "\n",
       "    .dataframe tbody tr th {\n",
       "        vertical-align: top;\n",
       "    }\n",
       "\n",
       "    .dataframe thead th {\n",
       "        text-align: right;\n",
       "    }\n",
       "</style>\n",
       "<table border=\"1\" class=\"dataframe\">\n",
       "  <thead>\n",
       "    <tr style=\"text-align: right;\">\n",
       "      <th></th>\n",
       "      <th>Product</th>\n",
       "      <th>Goods</th>\n",
       "      <th>State</th>\n",
       "    </tr>\n",
       "  </thead>\n",
       "  <tbody>\n",
       "    <tr>\n",
       "      <th>0</th>\n",
       "      <td>Pipli Applique Work</td>\n",
       "      <td>handicraft</td>\n",
       "      <td>odisha</td>\n",
       "    </tr>\n",
       "    <tr>\n",
       "      <th>1</th>\n",
       "      <td>Khandua Saree and Fabrics</td>\n",
       "      <td>handicraft</td>\n",
       "      <td>odisha</td>\n",
       "    </tr>\n",
       "    <tr>\n",
       "      <th>2</th>\n",
       "      <td>Orissa Ikat</td>\n",
       "      <td>handicraft</td>\n",
       "      <td>odisha</td>\n",
       "    </tr>\n",
       "    <tr>\n",
       "      <th>3</th>\n",
       "      <td>Kotpad Handloom fabric</td>\n",
       "      <td>handicraft</td>\n",
       "      <td>odisha</td>\n",
       "    </tr>\n",
       "    <tr>\n",
       "      <th>4</th>\n",
       "      <td>Konark Stone carving</td>\n",
       "      <td>handicraft</td>\n",
       "      <td>odisha</td>\n",
       "    </tr>\n",
       "    <tr>\n",
       "      <th>5</th>\n",
       "      <td>Orissa Pattachitra</td>\n",
       "      <td>handicraft</td>\n",
       "      <td>odisha</td>\n",
       "    </tr>\n",
       "  </tbody>\n",
       "</table>\n",
       "</div>"
      ],
      "text/plain": [
       "                      Product        Goods    State\n",
       "0        Pipli Applique Work   handicraft   odisha \n",
       "1  Khandua Saree and Fabrics   handicraft   odisha \n",
       "2                Orissa Ikat   handicraft   odisha \n",
       "3     Kotpad Handloom fabric   handicraft   odisha \n",
       "4       Konark Stone carving   handicraft   odisha \n",
       "5         Orissa Pattachitra   handicraft   odisha "
      ]
     },
     "execution_count": 49,
     "metadata": {},
     "output_type": "execute_result"
    }
   ],
   "source": [
    "filter(Goods_to_select,state_to_select)"
   ]
  },
  {
   "cell_type": "code",
   "execution_count": null,
   "metadata": {},
   "outputs": [],
   "source": []
  }
 ],
 "metadata": {
  "kernelspec": {
   "display_name": "Python 3",
   "language": "python",
   "name": "python3"
  },
  "language_info": {
   "codemirror_mode": {
    "name": "ipython",
    "version": 3
   },
   "file_extension": ".py",
   "mimetype": "text/x-python",
   "name": "python",
   "nbconvert_exporter": "python",
   "pygments_lexer": "ipython3",
   "version": "3.12.4"
  }
 },
 "nbformat": 4,
 "nbformat_minor": 2
}
